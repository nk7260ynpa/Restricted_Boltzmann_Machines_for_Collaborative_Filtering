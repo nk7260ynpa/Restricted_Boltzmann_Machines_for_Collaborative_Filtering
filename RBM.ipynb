{
 "cells": [
  {
   "cell_type": "code",
   "execution_count": 1,
   "metadata": {
    "collapsed": false
   },
   "outputs": [],
   "source": [
    "import numpy as np\n",
    "np.random.seed(1)"
   ]
  },
  {
   "cell_type": "code",
   "execution_count": 2,
   "metadata": {
    "collapsed": true
   },
   "outputs": [],
   "source": [
    "def to_onehot(UX):\n",
    "    UA = np.eye(4,4)[UX]\n",
    "    UA = np.delete(UA, 0, axis=1)\n",
    "    return UA"
   ]
  },
  {
   "cell_type": "code",
   "execution_count": 3,
   "metadata": {
    "collapsed": true
   },
   "outputs": [],
   "source": [
    "def sigmoid(x):\n",
    "    return 1 / (1 + np.exp(-x))"
   ]
  },
  {
   "cell_type": "code",
   "execution_count": 4,
   "metadata": {
    "collapsed": true
   },
   "outputs": [],
   "source": [
    "def softmax(a):\n",
    "    c = np.max(a)\n",
    "    exp_a = np.exp(a - c)\n",
    "    sum_exp_a = np.sum(exp_a)\n",
    "    y = exp_a / sum_exp_a\n",
    "\n",
    "    return y"
   ]
  },
  {
   "cell_type": "code",
   "execution_count": 5,
   "metadata": {
    "collapsed": true
   },
   "outputs": [],
   "source": [
    "data = np.array([[3, 0, 0, 1, 2, 3],\n",
    "                [3, 0, 1, 0, 2, 1],\n",
    "                [0, 2, 0, 1, 0, 0],\n",
    "                [1, 0, 2, 0, 1, 0]])"
   ]
  },
  {
   "cell_type": "code",
   "execution_count": 6,
   "metadata": {
    "collapsed": false
   },
   "outputs": [],
   "source": [
    "U1 = to_onehot(data[0])\n",
    "U2 = to_onehot(data[1])\n",
    "U3 = to_onehot(data[2])\n",
    "U4 = to_onehot(data[3])"
   ]
  },
  {
   "cell_type": "code",
   "execution_count": 7,
   "metadata": {
    "collapsed": false
   },
   "outputs": [],
   "source": [
    "Filter1 = np.random.random(size=[6,3])\n",
    "Filter2 = np.random.random(size=[6,3])\n",
    "Filter3 = np.random.random(size=[6,3])\n",
    "Filter4 = np.random.random(size=[6,3])\n",
    "Filter5 = np.random.random(size=[6,3])"
   ]
  },
  {
   "cell_type": "code",
   "execution_count": 8,
   "metadata": {
    "collapsed": false
   },
   "outputs": [
    {
     "data": {
      "text/plain": [
       "array([[4.17022005e-01, 7.20324493e-01, 1.14374817e-04],\n",
       "       [3.02332573e-01, 1.46755891e-01, 9.23385948e-02],\n",
       "       [1.86260211e-01, 3.45560727e-01, 3.96767474e-01],\n",
       "       [5.38816734e-01, 4.19194514e-01, 6.85219500e-01],\n",
       "       [2.04452250e-01, 8.78117436e-01, 2.73875932e-02],\n",
       "       [6.70467510e-01, 4.17304802e-01, 5.58689828e-01]])"
      ]
     },
     "execution_count": 8,
     "metadata": {},
     "output_type": "execute_result"
    }
   ],
   "source": [
    "Filter1"
   ]
  },
  {
   "cell_type": "code",
   "execution_count": 9,
   "metadata": {
    "collapsed": false
   },
   "outputs": [],
   "source": [
    "hidden_bias = np.random.random(size=5)\n",
    "visual_bias = np.random.random(size=[6,3])"
   ]
  },
  {
   "cell_type": "code",
   "execution_count": 10,
   "metadata": {
    "collapsed": false
   },
   "outputs": [
    {
     "data": {
      "text/plain": [
       "0.11474597295337519"
      ]
     },
     "execution_count": 10,
     "metadata": {},
     "output_type": "execute_result"
    }
   ],
   "source": [
    "hidden_bias[0]"
   ]
  },
  {
   "cell_type": "code",
   "execution_count": 11,
   "metadata": {
    "collapsed": false
   },
   "outputs": [
    {
     "data": {
      "text/plain": [
       "2.0904843466107743"
      ]
     },
     "execution_count": 11,
     "metadata": {},
     "output_type": "execute_result"
    }
   ],
   "source": [
    "np.sum(U1 * Filter1) + hidden_bias[0]"
   ]
  },
  {
   "cell_type": "code",
   "execution_count": 103,
   "metadata": {
    "collapsed": true
   },
   "outputs": [],
   "source": [
    "#-------------------------"
   ]
  },
  {
   "cell_type": "code",
   "execution_count": 104,
   "metadata": {
    "collapsed": false
   },
   "outputs": [],
   "source": [
    "h1 = sigmoid(np.sum(U1 * Filter1) + hidden_bias[0])\n",
    "h2 = sigmoid(np.sum(U1 * Filter2) + hidden_bias[1])\n",
    "h3 = sigmoid(np.sum(U1 * Filter3) + hidden_bias[2])\n",
    "h4 = sigmoid(np.sum(U1 * Filter4) + hidden_bias[3])\n",
    "h5 = sigmoid(np.sum(U1 * Filter5) + hidden_bias[4])"
   ]
  },
  {
   "cell_type": "code",
   "execution_count": 105,
   "metadata": {
    "collapsed": false
   },
   "outputs": [],
   "source": [
    "hidden_layer = np.array([h1, h2, h3, h4, h5])"
   ]
  },
  {
   "cell_type": "code",
   "execution_count": 106,
   "metadata": {
    "collapsed": false
   },
   "outputs": [
    {
     "data": {
      "text/plain": [
       "array([0.94529372, 0.97000578, 0.89150664, 0.95035336, 0.97646642])"
      ]
     },
     "execution_count": 106,
     "metadata": {},
     "output_type": "execute_result"
    }
   ],
   "source": [
    "hidden_layer"
   ]
  },
  {
   "cell_type": "code",
   "execution_count": 107,
   "metadata": {
    "collapsed": false
   },
   "outputs": [],
   "source": [
    "visual_layer = hidden_layer[0]*Filter1 + hidden_layer[1]*Filter2 + hidden_layer[2]*Filter3 + hidden_layer[3]*Filter4 + hidden_layer[4]*Filter5 + visual_bias "
   ]
  },
  {
   "cell_type": "code",
   "execution_count": 108,
   "metadata": {
    "collapsed": false
   },
   "outputs": [
    {
     "data": {
      "text/plain": [
       "array([[1.67347652, 2.43001107, 3.20207466],\n",
       "       [2.19754819, 3.40720131, 2.75708298],\n",
       "       [2.63364561, 3.88643204, 2.42929587],\n",
       "       [3.61388869, 2.24825218, 2.15934754],\n",
       "       [2.09622989, 4.09009489, 2.69082545],\n",
       "       [2.69842377, 2.40975615, 3.63000807]])"
      ]
     },
     "execution_count": 108,
     "metadata": {},
     "output_type": "execute_result"
    }
   ],
   "source": [
    "visual_layer"
   ]
  },
  {
   "cell_type": "code",
   "execution_count": 109,
   "metadata": {
    "collapsed": false
   },
   "outputs": [],
   "source": [
    "visual_layer_softmax = np.array([softmax(visual_layer[0]), \n",
    "                                 softmax(visual_layer[1]), \n",
    "                                 softmax(visual_layer[2]), \n",
    "                                 softmax(visual_layer[3]), \n",
    "                                 softmax(visual_layer[4]), \n",
    "                                 softmax(visual_layer[5])])"
   ]
  },
  {
   "cell_type": "code",
   "execution_count": 110,
   "metadata": {
    "collapsed": false
   },
   "outputs": [
    {
     "data": {
      "text/plain": [
       "array([[0.12915581, 0.2752154 , 0.59562879],\n",
       "       [0.16387586, 0.5493646 , 0.28675953],\n",
       "       [0.18813758, 0.65849696, 0.15336546],\n",
       "       [0.67171543, 0.17143399, 0.15685058],\n",
       "       [0.0984624 , 0.7230944 , 0.1784432 ],\n",
       "       [0.23322043, 0.17474302, 0.59203654]])"
      ]
     },
     "execution_count": 110,
     "metadata": {},
     "output_type": "execute_result"
    }
   ],
   "source": [
    "visual_layer_softmax"
   ]
  },
  {
   "cell_type": "code",
   "execution_count": 111,
   "metadata": {
    "collapsed": true
   },
   "outputs": [],
   "source": [
    "data[0][data[0]>0] = 1"
   ]
  },
  {
   "cell_type": "code",
   "execution_count": 112,
   "metadata": {
    "collapsed": false
   },
   "outputs": [],
   "source": [
    "for i in range(6):\n",
    "    if data[0][i] == 0:\n",
    "        visual_layer_softmax[i] *=0"
   ]
  },
  {
   "cell_type": "code",
   "execution_count": 113,
   "metadata": {
    "collapsed": false
   },
   "outputs": [
    {
     "data": {
      "text/plain": [
       "array([[0.12915581, 0.2752154 , 0.59562879],\n",
       "       [0.        , 0.        , 0.        ],\n",
       "       [0.        , 0.        , 0.        ],\n",
       "       [0.67171543, 0.17143399, 0.15685058],\n",
       "       [0.0984624 , 0.7230944 , 0.1784432 ],\n",
       "       [0.23322043, 0.17474302, 0.59203654]])"
      ]
     },
     "execution_count": 113,
     "metadata": {},
     "output_type": "execute_result"
    }
   ],
   "source": [
    "visual_layer_softmax"
   ]
  },
  {
   "cell_type": "code",
   "execution_count": 114,
   "metadata": {
    "collapsed": false
   },
   "outputs": [
    {
     "data": {
      "text/plain": [
       "-14.86780026061654"
      ]
     },
     "execution_count": 114,
     "metadata": {},
     "output_type": "execute_result"
    }
   ],
   "source": [
    "energy = -(np.sum(np.multiply((visual_layer-visual_bias),visual_layer_softmax)) + np.sum(np.multiply((visual_bias),visual_layer_softmax))+np.sum(np.multiply(hidden_layer,hidden_bias)))\n",
    "energy"
   ]
  },
  {
   "cell_type": "code",
   "execution_count": 115,
   "metadata": {
    "collapsed": false
   },
   "outputs": [],
   "source": [
    "#--------------------------------\n",
    "#以下開始反向傳播"
   ]
  },
  {
   "cell_type": "code",
   "execution_count": 116,
   "metadata": {
    "collapsed": false
   },
   "outputs": [],
   "source": [
    "lr = 0.1"
   ]
  },
  {
   "cell_type": "code",
   "execution_count": 117,
   "metadata": {
    "collapsed": true
   },
   "outputs": [],
   "source": [
    "d_h1 = sigmoid(np.sum(U1[0] * Filter1) + hidden_bias[0])\n",
    "d_h2 = sigmoid(np.sum(U1[1] * Filter2) + hidden_bias[1])\n",
    "d_h3 = sigmoid(np.sum(U1[2] * Filter3) + hidden_bias[2])\n",
    "d_h4 = sigmoid(np.sum(U1[3] * Filter4) + hidden_bias[3])\n",
    "d_h5 = sigmoid(np.sum(U1[4] * Filter5) + hidden_bias[4])"
   ]
  },
  {
   "cell_type": "code",
   "execution_count": 118,
   "metadata": {
    "collapsed": false
   },
   "outputs": [
    {
     "data": {
      "text/plain": [
       "0.7118721451770821"
      ]
     },
     "execution_count": 118,
     "metadata": {},
     "output_type": "execute_result"
    }
   ],
   "source": [
    "d_h2 = sigmoid(np.sum(U1[1] * Filter2) + hidden_bias[1])\n",
    "d_h2"
   ]
  },
  {
   "cell_type": "code",
   "execution_count": 119,
   "metadata": {
    "collapsed": false
   },
   "outputs": [],
   "source": [
    "d_W1 = lr*(U1*h1 - visual_layer_softmax*d_h1)\n",
    "d_W2 = lr*(U1*h2 - visual_layer_softmax*d_h2)\n",
    "d_W3 = lr*(U1*h3 - visual_layer_softmax*d_h3)\n",
    "d_W4 = lr*(U1*h4 - visual_layer_softmax*d_h4)\n",
    "d_W5 = lr*(U1*h5 - visual_layer_softmax*d_h5)"
   ]
  },
  {
   "cell_type": "code",
   "execution_count": 120,
   "metadata": {
    "collapsed": false
   },
   "outputs": [],
   "source": [
    "Filter1 += d_W1\n",
    "Filter2 += d_W2\n",
    "Filter3 += d_W3\n",
    "Filter4 += d_W4\n",
    "Filter5 += d_W5"
   ]
  },
  {
   "cell_type": "code",
   "execution_count": 121,
   "metadata": {
    "collapsed": false
   },
   "outputs": [
    {
     "data": {
      "text/plain": [
       "array([[0.12915581, 0.2752154 , 0.40437121],\n",
       "       [0.        , 0.        , 0.        ],\n",
       "       [0.        , 0.        , 0.        ],\n",
       "       [0.32828457, 0.17143399, 0.15685058],\n",
       "       [0.0984624 , 0.2769056 , 0.1784432 ],\n",
       "       [0.23322043, 0.17474302, 0.40796346]])"
      ]
     },
     "execution_count": 121,
     "metadata": {},
     "output_type": "execute_result"
    }
   ],
   "source": [
    "d_softmax = np.abs(visual_layer_softmax - U1) \n",
    "d_softmax"
   ]
  },
  {
   "cell_type": "code",
   "execution_count": 122,
   "metadata": {
    "collapsed": false
   },
   "outputs": [],
   "source": [
    "d_visual_bias = d_softmax.sum(axis=1)\n",
    "visual_bias -= lr*d_softmax"
   ]
  },
  {
   "cell_type": "code",
   "execution_count": 123,
   "metadata": {
    "collapsed": false
   },
   "outputs": [],
   "source": [
    "d_hidden_bias_1 = np.sum(d_softmax * Filter1) * h1 * (1- h1)\n",
    "d_hidden_bias_2 = np.sum(d_softmax * Filter2) * h2 * (1- h2)\n",
    "d_hidden_bias_3 = np.sum(d_softmax * Filter3) * h3 * (1- h3)\n",
    "d_hidden_bias_4 = np.sum(d_softmax * Filter4) * h4 * (1- h4)\n",
    "d_hidden_bias_5 = np.sum(d_softmax * Filter5) * h5 * (1- h5)"
   ]
  },
  {
   "cell_type": "code",
   "execution_count": 124,
   "metadata": {
    "collapsed": false
   },
   "outputs": [],
   "source": [
    "d_hidden_bias = np.array([d_hidden_bias_1, d_hidden_bias_2, d_hidden_bias_3, d_hidden_bias_4, d_hidden_bias_5])"
   ]
  },
  {
   "cell_type": "code",
   "execution_count": 125,
   "metadata": {
    "collapsed": true
   },
   "outputs": [],
   "source": [
    "hidden_bias -= lr*d_hidden_bias"
   ]
  },
  {
   "cell_type": "code",
   "execution_count": 130,
   "metadata": {
    "collapsed": false
   },
   "outputs": [
    {
     "data": {
      "text/plain": [
       "array([[ 3,  6],\n",
       "       [ 3, 10]])"
      ]
     },
     "execution_count": 130,
     "metadata": {},
     "output_type": "execute_result"
    }
   ],
   "source": [
    "a = np.array([[3,3],[1,2]])\n",
    "b = np.array([[1,2],[3,5]])\n",
    "a*b"
   ]
  },
  {
   "cell_type": "code",
   "execution_count": null,
   "metadata": {
    "collapsed": true
   },
   "outputs": [],
   "source": []
  }
 ],
 "metadata": {
  "anaconda-cloud": {},
  "kernelspec": {
   "display_name": "Python 3",
   "language": "python",
   "name": "python3"
  },
  "language_info": {
   "codemirror_mode": {
    "name": "ipython",
    "version": 3
   },
   "file_extension": ".py",
   "mimetype": "text/x-python",
   "name": "python",
   "nbconvert_exporter": "python",
   "pygments_lexer": "ipython3",
   "version": "3.5.2"
  }
 },
 "nbformat": 4,
 "nbformat_minor": 1
}
